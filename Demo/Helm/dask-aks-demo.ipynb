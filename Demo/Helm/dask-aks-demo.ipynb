{
 "cells": [
  {
   "cell_type": "code",
   "execution_count": 29,
   "metadata": {
    "collapsed": true
   },
   "outputs": [
    {
     "name": "stderr",
     "output_type": "stream",
     "text": [
      "C:\\Users\\feli1\\AppData\\Local\\Continuum\\anaconda3\\envs\\daskaks\\lib\\site-packages\\distributed\\client.py:1079: VersionMismatchWarning: Mismatched versions found\n",
      "\n",
      "blosc\n",
      "+--------------------------+---------+\n",
      "|                          | version |\n",
      "+--------------------------+---------+\n",
      "| client                   | None    |\n",
      "| scheduler                | 1.8.3   |\n",
      "| tcp://10.244.0.21:45885  | 1.8.3   |\n",
      "| tcp://10.244.1.26:36269  | 1.8.3   |\n",
      "| tcp://10.244.10.4:46161  | 1.8.3   |\n",
      "| tcp://10.244.11.4:34155  | 1.8.3   |\n",
      "| tcp://10.244.12.3:37611  | 1.8.3   |\n",
      "| tcp://10.244.13.4:39753  | 1.8.3   |\n",
      "| tcp://10.244.14.2:34961  | 1.8.3   |\n",
      "| tcp://10.244.15.2:40487  | 1.8.3   |\n",
      "| tcp://10.244.16.3:36037  | 1.8.3   |\n",
      "| tcp://10.244.17.3:36509  | 1.8.3   |\n",
      "| tcp://10.244.18.4:39483  | 1.8.3   |\n",
      "| tcp://10.244.19.4:34431  | 1.8.3   |\n",
      "| tcp://10.244.2.26:32879  | 1.8.3   |\n",
      "| tcp://10.244.23.15:45459 | 1.8.3   |\n",
      "| tcp://10.244.3.3:42167   | 1.8.3   |\n",
      "| tcp://10.244.4.4:35155   | 1.8.3   |\n",
      "| tcp://10.244.46.15:35799 | 1.8.3   |\n",
      "| tcp://10.244.5.4:42157   | 1.8.3   |\n",
      "| tcp://10.244.51.13:46217 | 1.8.3   |\n",
      "| tcp://10.244.8.13:36225  | 1.8.3   |\n",
      "+--------------------------+---------+\n",
      "\n",
      "dask\n",
      "+--------------------------+---------+\n",
      "|                          | version |\n",
      "+--------------------------+---------+\n",
      "| client                   | 2.14.0  |\n",
      "| scheduler                | 2.11.0  |\n",
      "| tcp://10.244.0.21:45885  | 2.11.0  |\n",
      "| tcp://10.244.1.26:36269  | 2.11.0  |\n",
      "| tcp://10.244.10.4:46161  | 2.11.0  |\n",
      "| tcp://10.244.11.4:34155  | 2.11.0  |\n",
      "| tcp://10.244.12.3:37611  | 2.11.0  |\n",
      "| tcp://10.244.13.4:39753  | 2.11.0  |\n",
      "| tcp://10.244.14.2:34961  | 2.11.0  |\n",
      "| tcp://10.244.15.2:40487  | 2.11.0  |\n",
      "| tcp://10.244.16.3:36037  | 2.11.0  |\n",
      "| tcp://10.244.17.3:36509  | 2.11.0  |\n",
      "| tcp://10.244.18.4:39483  | 2.11.0  |\n",
      "| tcp://10.244.19.4:34431  | 2.11.0  |\n",
      "| tcp://10.244.2.26:32879  | 2.11.0  |\n",
      "| tcp://10.244.23.15:45459 | 2.11.0  |\n",
      "| tcp://10.244.3.3:42167   | 2.11.0  |\n",
      "| tcp://10.244.4.4:35155   | 2.11.0  |\n",
      "| tcp://10.244.46.15:35799 | 2.11.0  |\n",
      "| tcp://10.244.5.4:42157   | 2.11.0  |\n",
      "| tcp://10.244.51.13:46217 | 2.11.0  |\n",
      "| tcp://10.244.8.13:36225  | 2.11.0  |\n",
      "+--------------------------+---------+\n",
      "\n",
      "distributed\n",
      "+--------------------------+---------+\n",
      "|                          | version |\n",
      "+--------------------------+---------+\n",
      "| client                   | 2.14.0  |\n",
      "| scheduler                | 2.11.0  |\n",
      "| tcp://10.244.0.21:45885  | 2.11.0  |\n",
      "| tcp://10.244.1.26:36269  | 2.11.0  |\n",
      "| tcp://10.244.10.4:46161  | 2.11.0  |\n",
      "| tcp://10.244.11.4:34155  | 2.11.0  |\n",
      "| tcp://10.244.12.3:37611  | 2.11.0  |\n",
      "| tcp://10.244.13.4:39753  | 2.11.0  |\n",
      "| tcp://10.244.14.2:34961  | 2.11.0  |\n",
      "| tcp://10.244.15.2:40487  | 2.11.0  |\n",
      "| tcp://10.244.16.3:36037  | 2.11.0  |\n",
      "| tcp://10.244.17.3:36509  | 2.11.0  |\n",
      "| tcp://10.244.18.4:39483  | 2.11.0  |\n",
      "| tcp://10.244.19.4:34431  | 2.11.0  |\n",
      "| tcp://10.244.2.26:32879  | 2.11.0  |\n",
      "| tcp://10.244.23.15:45459 | 2.11.0  |\n",
      "| tcp://10.244.3.3:42167   | 2.11.0  |\n",
      "| tcp://10.244.4.4:35155   | 2.11.0  |\n",
      "| tcp://10.244.46.15:35799 | 2.11.0  |\n",
      "| tcp://10.244.5.4:42157   | 2.11.0  |\n",
      "| tcp://10.244.51.13:46217 | 2.11.0  |\n",
      "| tcp://10.244.8.13:36225  | 2.11.0  |\n",
      "+--------------------------+---------+\n",
      "\n",
      "lz4\n",
      "+--------------------------+---------+\n",
      "|                          | version |\n",
      "+--------------------------+---------+\n",
      "| client                   | None    |\n",
      "| scheduler                | 3.0.2   |\n",
      "| tcp://10.244.0.21:45885  | 3.0.2   |\n",
      "| tcp://10.244.1.26:36269  | 3.0.2   |\n",
      "| tcp://10.244.10.4:46161  | 3.0.2   |\n",
      "| tcp://10.244.11.4:34155  | 3.0.2   |\n",
      "| tcp://10.244.12.3:37611  | 3.0.2   |\n",
      "| tcp://10.244.13.4:39753  | 3.0.2   |\n",
      "| tcp://10.244.14.2:34961  | 3.0.2   |\n",
      "| tcp://10.244.15.2:40487  | 3.0.2   |\n",
      "| tcp://10.244.16.3:36037  | 3.0.2   |\n",
      "| tcp://10.244.17.3:36509  | 3.0.2   |\n",
      "| tcp://10.244.18.4:39483  | 3.0.2   |\n",
      "| tcp://10.244.19.4:34431  | 3.0.2   |\n",
      "| tcp://10.244.2.26:32879  | 3.0.2   |\n",
      "| tcp://10.244.23.15:45459 | 3.0.2   |\n",
      "| tcp://10.244.3.3:42167   | 3.0.2   |\n",
      "| tcp://10.244.4.4:35155   | 3.0.2   |\n",
      "| tcp://10.244.46.15:35799 | 3.0.2   |\n",
      "| tcp://10.244.5.4:42157   | 3.0.2   |\n",
      "| tcp://10.244.51.13:46217 | 3.0.2   |\n",
      "| tcp://10.244.8.13:36225  | 3.0.2   |\n",
      "+--------------------------+---------+\n",
      "\n",
      "numpy\n",
      "+--------------------------+---------+\n",
      "|                          | version |\n",
      "+--------------------------+---------+\n",
      "| client                   | 1.18.2  |\n",
      "| scheduler                | 1.18.1  |\n",
      "| tcp://10.244.0.21:45885  | 1.18.1  |\n",
      "| tcp://10.244.1.26:36269  | 1.18.1  |\n",
      "| tcp://10.244.10.4:46161  | 1.18.1  |\n",
      "| tcp://10.244.11.4:34155  | 1.18.1  |\n",
      "| tcp://10.244.12.3:37611  | 1.18.1  |\n",
      "| tcp://10.244.13.4:39753  | 1.18.1  |\n",
      "| tcp://10.244.14.2:34961  | 1.18.1  |\n",
      "| tcp://10.244.15.2:40487  | 1.18.1  |\n",
      "| tcp://10.244.16.3:36037  | 1.18.1  |\n",
      "| tcp://10.244.17.3:36509  | 1.18.1  |\n",
      "| tcp://10.244.18.4:39483  | 1.18.1  |\n",
      "| tcp://10.244.19.4:34431  | 1.18.1  |\n",
      "| tcp://10.244.2.26:32879  | 1.18.1  |\n",
      "| tcp://10.244.23.15:45459 | 1.18.1  |\n",
      "| tcp://10.244.3.3:42167   | 1.18.1  |\n",
      "| tcp://10.244.4.4:35155   | 1.18.1  |\n",
      "| tcp://10.244.46.15:35799 | 1.18.1  |\n",
      "| tcp://10.244.5.4:42157   | 1.18.1  |\n",
      "| tcp://10.244.51.13:46217 | 1.18.1  |\n",
      "| tcp://10.244.8.13:36225  | 1.18.1  |\n",
      "+--------------------------+---------+\n",
      "\n",
      "python\n",
      "+--------------------------+----------------+\n",
      "|                          | version        |\n",
      "+--------------------------+----------------+\n",
      "| client                   | 3.6.10.final.0 |\n",
      "| scheduler                | MISSING        |\n",
      "| tcp://10.244.0.21:45885  | MISSING        |\n",
      "| tcp://10.244.1.26:36269  | MISSING        |\n",
      "| tcp://10.244.10.4:46161  | MISSING        |\n",
      "| tcp://10.244.11.4:34155  | MISSING        |\n",
      "| tcp://10.244.12.3:37611  | MISSING        |\n",
      "| tcp://10.244.13.4:39753  | MISSING        |\n",
      "| tcp://10.244.14.2:34961  | MISSING        |\n",
      "| tcp://10.244.15.2:40487  | MISSING        |\n",
      "| tcp://10.244.16.3:36037  | MISSING        |\n",
      "| tcp://10.244.17.3:36509  | MISSING        |\n",
      "| tcp://10.244.18.4:39483  | MISSING        |\n",
      "| tcp://10.244.19.4:34431  | MISSING        |\n",
      "| tcp://10.244.2.26:32879  | MISSING        |\n",
      "| tcp://10.244.23.15:45459 | MISSING        |\n",
      "| tcp://10.244.3.3:42167   | MISSING        |\n",
      "| tcp://10.244.4.4:35155   | MISSING        |\n",
      "| tcp://10.244.46.15:35799 | MISSING        |\n",
      "| tcp://10.244.5.4:42157   | MISSING        |\n",
      "| tcp://10.244.51.13:46217 | MISSING        |\n",
      "| tcp://10.244.8.13:36225  | MISSING        |\n",
      "+--------------------------+----------------+\n",
      "\n",
      "tornado\n",
      "+--------------------------+---------+\n",
      "|                          | version |\n",
      "+--------------------------+---------+\n",
      "| client                   | 6.0.4   |\n",
      "| scheduler                | 6.0.3   |\n",
      "| tcp://10.244.0.21:45885  | 6.0.3   |\n",
      "| tcp://10.244.1.26:36269  | 6.0.3   |\n",
      "| tcp://10.244.10.4:46161  | 6.0.3   |\n",
      "| tcp://10.244.11.4:34155  | 6.0.3   |\n",
      "| tcp://10.244.12.3:37611  | 6.0.3   |\n",
      "| tcp://10.244.13.4:39753  | 6.0.3   |\n",
      "| tcp://10.244.14.2:34961  | 6.0.3   |\n",
      "| tcp://10.244.15.2:40487  | 6.0.3   |\n",
      "| tcp://10.244.16.3:36037  | 6.0.3   |\n",
      "| tcp://10.244.17.3:36509  | 6.0.3   |\n",
      "| tcp://10.244.18.4:39483  | 6.0.3   |\n",
      "| tcp://10.244.19.4:34431  | 6.0.3   |\n",
      "| tcp://10.244.2.26:32879  | 6.0.3   |\n",
      "| tcp://10.244.23.15:45459 | 6.0.3   |\n",
      "| tcp://10.244.3.3:42167   | 6.0.3   |\n",
      "| tcp://10.244.4.4:35155   | 6.0.3   |\n",
      "| tcp://10.244.46.15:35799 | 6.0.3   |\n",
      "| tcp://10.244.5.4:42157   | 6.0.3   |\n",
      "| tcp://10.244.51.13:46217 | 6.0.3   |\n",
      "| tcp://10.244.8.13:36225  | 6.0.3   |\n",
      "+--------------------------+---------+\n",
      "  warnings.warn(version_module.VersionMismatchWarning(msg[0][\"warning\"]))\n"
     ]
    }
   ],
   "source": [
    "import os\n",
    "from dask.distributed import Client\n",
    "import dask.array as da\n",
    "import dask\n",
    "from azureml.core import Workspace, Experiment, Datastore, Dataset, Environment"
   ]
  },
  {
   "cell_type": "code",
   "execution_count": 2,
   "metadata": {},
   "outputs": [],
   "source": [
    "aks_name=<aks_name>\n",
    "aks_rg=<aks_resource_group>\n",
    "aks_subscription_id=<aks_subscription_id>\n",
    "## kubernets_version=\"1.15.10\""
   ]
  },
  {
   "cell_type": "code",
   "execution_count": 3,
   "metadata": {},
   "outputs": [],
   "source": [
    "dir_path = os.getcwd()\n",
    "kube_config_path = dir_path + '\\\\config'"
   ]
  },
  {
   "cell_type": "markdown",
   "metadata": {},
   "source": [
    "## check aks status"
   ]
  },
  {
   "cell_type": "code",
   "execution_count": 4,
   "metadata": {},
   "outputs": [
    {
     "name": "stdout",
     "output_type": "stream",
     "text": [
      "NAME                  TYPE           CLUSTER-IP    EXTERNAL-IP      PORT(S)                      AGE\n",
      "azureml-fe            LoadBalancer   10.0.37.152   104.45.176.211   80:31391/TCP,443:30295/TCP   23d\n",
      "azureml-fe-int-http   ClusterIP      10.0.32.90    <none>           9001/TCP                     23d\n",
      "kubernetes            ClusterIP      10.0.0.1      <none>           443/TCP                      23d\n"
     ]
    }
   ],
   "source": [
    "!kubectl get services --kubeconfig $kube_config_path"
   ]
  },
  {
   "cell_type": "code",
   "execution_count": 5,
   "metadata": {},
   "outputs": [
    {
     "name": "stdout",
     "output_type": "stream",
     "text": [
      "NAME                               READY   STATUS    RESTARTS   AGE\n",
      "azureml-ba-5d44c5d5f4-9qbcj        1/1     Running   0          23d\n",
      "azureml-fe-6cdf785d8f-n2pbk        2/2     Running   4          23d\n",
      "azureml-fe-6cdf785d8f-ntm4x        2/2     Running   6          23d\n",
      "azureml-fe-6cdf785d8f-zw9dv        2/2     Running   2          23d\n",
      "blobfuse-flexvol-installer-4xzxq   1/1     Running   0          23d\n",
      "blobfuse-flexvol-installer-5vb67   1/1     Running   0          23d\n",
      "blobfuse-flexvol-installer-6258j   1/1     Running   0          20d\n",
      "blobfuse-flexvol-installer-78lhq   1/1     Running   0          20d\n",
      "blobfuse-flexvol-installer-k8dbx   1/1     Running   0          23d\n",
      "blobfuse-flexvol-installer-kbmkd   1/1     Running   0          23d\n",
      "blobfuse-flexvol-installer-mqw4f   1/1     Running   0          21d\n",
      "blobfuse-flexvol-installer-qgcbb   1/1     Running   0          23d\n",
      "blobfuse-flexvol-installer-qhjbp   1/1     Running   0          23d\n",
      "blobfuse-flexvol-installer-wzc9n   1/1     Running   0          23d\n"
     ]
    }
   ],
   "source": [
    "!kubectl get pods --kubeconfig $kube_config_path"
   ]
  },
  {
   "cell_type": "code",
   "execution_count": 15,
   "metadata": {},
   "outputs": [
    {
     "name": "stdout",
     "output_type": "stream",
     "text": [
      "NAME     \tNAMESPACE\tREVISION\tUPDATED                              \tSTATUS  \tCHART     \tAPP VERSION\n",
      "dask-kube\tdefault  \t2       \t2020-05-06 22:19:36.7818764 -0700 PDT\tdeployed\tdask-4.1.6\t2.11.0     \n"
     ]
    }
   ],
   "source": [
    "!helm list --kubeconfig $kube_config_path"
   ]
  },
  {
   "cell_type": "markdown",
   "metadata": {},
   "source": [
    "## start dask kubernet cluster"
   ]
  },
  {
   "cell_type": "code",
   "execution_count": 8,
   "metadata": {},
   "outputs": [
    {
     "name": "stdout",
     "output_type": "stream",
     "text": [
      "\"dask\" has been added to your repositories\n"
     ]
    }
   ],
   "source": [
    "!helm repo add dask https://helm.dask.org/"
   ]
  },
  {
   "cell_type": "code",
   "execution_count": 9,
   "metadata": {},
   "outputs": [
    {
     "name": "stdout",
     "output_type": "stream",
     "text": [
      "Hang tight while we grab the latest from your chart repositories...\n",
      "...Successfully got an update from the \"dask\" chart repository\n",
      "...Successfully got an update from the \"dask-gateway\" chart repository\n",
      "Update Complete. âŽˆ Happy Helming!âŽˆ \n"
     ]
    }
   ],
   "source": [
    "!helm repo update"
   ]
  },
  {
   "cell_type": "code",
   "execution_count": 10,
   "metadata": {},
   "outputs": [
    {
     "name": "stdout",
     "output_type": "stream",
     "text": [
      "NAME: dask-kube\n",
      "LAST DEPLOYED: Wed May  6 22:18:05 2020\n",
      "NAMESPACE: default\n",
      "STATUS: deployed\n",
      "REVISION: 1\n",
      "TEST SUITE: None\n",
      "NOTES:\n",
      "Thank you for installing DASK, released at name: dask-kube.\n",
      "\n",
      "To learn more about the release, try:\n",
      "\n",
      "  $ helm status dask-kube  # information about running pods and this message\n",
      "  $ helm get dask-kube     # get full Kubernetes specification\n",
      "\n",
      "This release includes a Dask scheduler, 3 Dask workers, and 1 Jupyter servers.\n",
      "\n",
      "The Jupyter notebook server and Dask scheduler expose external services to\n",
      "which you can connect to manage notebooks, or connect directly to the Dask\n",
      "cluster. You can get these addresses by running the following:\n",
      "\n",
      "  export DASK_SCHEDULER=$(kubectl get svc --namespace default dask-kube-scheduler -o jsonpath='{.status.loadBalancer.ingress[0].ip}')\n",
      "  export DASK_SCHEDULER_UI_IP=$(kubectl get svc --namespace default dask-kube-scheduler -o jsonpath='{.status.loadBalancer.ingress[0].ip}')\n",
      "  export DASK_SCHEDULER_PORT=8786\n",
      "  export DASK_SCHEDULER_UI_PORT=80\n",
      "\n",
      "  export JUPYTER_NOTEBOOK_IP=$(kubectl get svc --namespace default dask-kube-jupyter -o jsonpath='{.status.loadBalancer.ingress[0].ip}')\n",
      "  export JUPYTER_NOTEBOOK_PORT=80\n",
      "\n",
      "  echo tcp://$DASK_SCHEDULER:$DASK_SCHEDULER_PORT               -- Dask Client connection\n",
      "  echo http://$DASK_SCHEDULER_UI_IP:$DASK_SCHEDULER_UI_PORT     -- Dask dashboard\n",
      "  echo http://$JUPYTER_NOTEBOOK_IP:$JUPYTER_NOTEBOOK_PORT       -- Jupyter notebook\n",
      "\n",
      "NOTE: It may take a few minutes for the LoadBalancer IP to be available. Until then, the commands above will not work for the LoadBalancer service type.\n",
      "You can watch the status by running 'kubectl get svc --namespace default -w dask-kube-scheduler'\n",
      "\n",
      "NOTE: It may take a few minutes for the URLs above to be available if any EXTRA_PIP_PACKAGES or EXTRA_CONDA_PACKAGES were specified,\n",
      "because they are installed before their respective services start.\n",
      "\n",
      "NOTE: The default password to login to the notebook server is `dask`. To change this password, refer to the Jupyter password section in values.yaml, or in the README.md.\n"
     ]
    }
   ],
   "source": [
    "!helm install dask-kube dask/dask --kubeconfig $kube_config_path"
   ]
  },
  {
   "cell_type": "markdown",
   "metadata": {},
   "source": [
    "## Start/Update wokers"
   ]
  },
  {
   "cell_type": "code",
   "execution_count": 11,
   "metadata": {},
   "outputs": [],
   "source": [
    "to_write = f\"\"\"\n",
    "image:\n",
    "  name: mcr.microsoft.com/azureml/base:intelmpi2018.3-ubuntu16.04\n",
    "  pullPolicy: IfNotPresent\n",
    "worker:\n",
    "  replicas: 20\n",
    "  resources:\n",
    "    limits:\n",
    "      cpu: 1\n",
    "      memory: 3G\n",
    "    requests:\n",
    "      cpu: 1\n",
    "      memory: 3G\n",
    "  env:\n",
    "    - name: EXTRA_APT_PACKAGES\n",
    "      value: gcc\n",
    "    - name: EXTRA_PIP_PACKAGES\n",
    "      value: adlfs azureml-core azureml-dataprep dask[complete] dask-ml[complete] distributed fastparquet fsspec joblib jupyterlab lz4 mpi4py notebook pyarrow\n",
    "\n",
    "# We want to keep the same packages on the worker and jupyter environments\n",
    "jupyter:\n",
    "  enabled: true\n",
    "  env:\n",
    "    - name: EXTRA_APT_PACKAGES\n",
    "      value: gcc\n",
    "    - name: EXTRA_PIP_PACKAGES\n",
    "      value: adlfs azureml-core azureml-dataprep dask[complete] dask-ml[complete] distributed fastparquet fsspec joblib jupyterlab lz4 mpi4py notebook pyarrow\n",
    "\"\"\".lstrip()\n",
    "\n",
    "with open('update_worker.yaml', 'w') as f:\n",
    "    f.write(to_write)"
   ]
  },
  {
   "cell_type": "code",
   "execution_count": 13,
   "metadata": {},
   "outputs": [
    {
     "name": "stdout",
     "output_type": "stream",
     "text": [
      "Release \"dask-kube\" has been upgraded. Happy Helming!\n",
      "NAME: dask-kube\n",
      "LAST DEPLOYED: Wed May  6 22:19:36 2020\n",
      "NAMESPACE: default\n",
      "STATUS: deployed\n",
      "REVISION: 2\n",
      "TEST SUITE: None\n",
      "NOTES:\n",
      "Thank you for installing DASK, released at name: dask-kube.\n",
      "\n",
      "To learn more about the release, try:\n",
      "\n",
      "  $ helm status dask-kube  # information about running pods and this message\n",
      "  $ helm get dask-kube     # get full Kubernetes specification\n",
      "\n",
      "This release includes a Dask scheduler, 20 Dask workers, and 1 Jupyter servers.\n",
      "\n",
      "The Jupyter notebook server and Dask scheduler expose external services to\n",
      "which you can connect to manage notebooks, or connect directly to the Dask\n",
      "cluster. You can get these addresses by running the following:\n",
      "\n",
      "  export DASK_SCHEDULER=$(kubectl get svc --namespace default dask-kube-scheduler -o jsonpath='{.status.loadBalancer.ingress[0].ip}')\n",
      "  export DASK_SCHEDULER_UI_IP=$(kubectl get svc --namespace default dask-kube-scheduler -o jsonpath='{.status.loadBalancer.ingress[0].ip}')\n",
      "  export DASK_SCHEDULER_PORT=8786\n",
      "  export DASK_SCHEDULER_UI_PORT=80\n",
      "\n",
      "  export JUPYTER_NOTEBOOK_IP=$(kubectl get svc --namespace default dask-kube-jupyter -o jsonpath='{.status.loadBalancer.ingress[0].ip}')\n",
      "  export JUPYTER_NOTEBOOK_PORT=80\n",
      "\n",
      "  echo tcp://$DASK_SCHEDULER:$DASK_SCHEDULER_PORT               -- Dask Client connection\n",
      "  echo http://$DASK_SCHEDULER_UI_IP:$DASK_SCHEDULER_UI_PORT     -- Dask dashboard\n",
      "  echo http://$JUPYTER_NOTEBOOK_IP:$JUPYTER_NOTEBOOK_PORT       -- Jupyter notebook\n",
      "\n",
      "NOTE: It may take a few minutes for the LoadBalancer IP to be available. Until then, the commands above will not work for the LoadBalancer service type.\n",
      "You can watch the status by running 'kubectl get svc --namespace default -w dask-kube-scheduler'\n",
      "\n",
      "NOTE: It may take a few minutes for the URLs above to be available if any EXTRA_PIP_PACKAGES or EXTRA_CONDA_PACKAGES were specified,\n",
      "because they are installed before their respective services start.\n",
      "\n",
      "NOTE: The default password to login to the notebook server is `dask`. To change this password, refer to the Jupyter password section in values.yaml, or in the README.md.\n"
     ]
    }
   ],
   "source": [
    "!helm upgrade dask-kube dask/dask -f update_worker.yaml --kubeconfig $kube_config_path"
   ]
  },
  {
   "cell_type": "code",
   "execution_count": 22,
   "metadata": {},
   "outputs": [
    {
     "name": "stdout",
     "output_type": "stream",
     "text": [
      "NAME                                   READY   STATUS    RESTARTS   AGE\n",
      "azureml-ba-5d44c5d5f4-9qbcj            1/1     Running   0          23d\n",
      "azureml-fe-6cdf785d8f-n2pbk            2/2     Running   4          23d\n",
      "azureml-fe-6cdf785d8f-ntm4x            2/2     Running   6          23d\n",
      "azureml-fe-6cdf785d8f-zw9dv            2/2     Running   2          23d\n",
      "blobfuse-flexvol-installer-48vwr       1/1     Running   0          119s\n",
      "blobfuse-flexvol-installer-4xzxq       1/1     Running   0          23d\n",
      "blobfuse-flexvol-installer-5vb67       1/1     Running   0          23d\n",
      "blobfuse-flexvol-installer-6258j       1/1     Running   0          20d\n",
      "blobfuse-flexvol-installer-78lhq       1/1     Running   0          20d\n",
      "blobfuse-flexvol-installer-bq6sz       1/1     Running   0          118s\n",
      "blobfuse-flexvol-installer-gtkml       1/1     Running   0          114s\n",
      "blobfuse-flexvol-installer-k8dbx       1/1     Running   0          23d\n",
      "blobfuse-flexvol-installer-kbmkd       1/1     Running   0          23d\n",
      "blobfuse-flexvol-installer-kxdn6       1/1     Running   0          114s\n",
      "blobfuse-flexvol-installer-mqw4f       1/1     Running   0          21d\n",
      "blobfuse-flexvol-installer-ncdvr       1/1     Running   0          118s\n",
      "blobfuse-flexvol-installer-p47xh       1/1     Running   0          2m1s\n",
      "blobfuse-flexvol-installer-pk5ln       1/1     Running   0          106s\n",
      "blobfuse-flexvol-installer-qgcbb       1/1     Running   0          23d\n",
      "blobfuse-flexvol-installer-qhjbp       1/1     Running   0          23d\n",
      "blobfuse-flexvol-installer-sn5jk       1/1     Running   0          116s\n",
      "blobfuse-flexvol-installer-wzc9n       1/1     Running   0          23d\n",
      "blobfuse-flexvol-installer-x8l2q       1/1     Running   0          116s\n",
      "blobfuse-flexvol-installer-z9858       1/1     Running   0          115s\n",
      "dask-kube-jupyter-77c568d49d-thmfz     1/1     Running   0          4m4s\n",
      "dask-kube-scheduler-86c7bd57d6-mkx7n   1/1     Running   0          5m35s\n",
      "dask-kube-worker-685fbb84c9-47j5w      0/1     Pending   0          75s\n",
      "dask-kube-worker-685fbb84c9-9cp4m      1/1     Running   0          4m3s\n",
      "dask-kube-worker-685fbb84c9-b4fnd      1/1     Running   0          4m3s\n",
      "dask-kube-worker-685fbb84c9-b86vh      1/1     Running   0          4m3s\n",
      "dask-kube-worker-685fbb84c9-bw96h      1/1     Running   0          4m1s\n",
      "dask-kube-worker-685fbb84c9-ctrp6      1/1     Running   0          4m3s\n",
      "dask-kube-worker-685fbb84c9-d59m8      1/1     Running   0          3m59s\n",
      "dask-kube-worker-685fbb84c9-d9xgh      1/1     Running   0          3m59s\n",
      "dask-kube-worker-685fbb84c9-dl82r      1/1     Running   0          4m2s\n",
      "dask-kube-worker-685fbb84c9-fkbc9      1/1     Running   0          4m\n",
      "dask-kube-worker-685fbb84c9-kvb5d      0/1     Pending   0          64s\n",
      "dask-kube-worker-685fbb84c9-lcg6j      1/1     Running   0          4m2s\n",
      "dask-kube-worker-685fbb84c9-mcqpq      0/1     Pending   0          66s\n",
      "dask-kube-worker-685fbb84c9-n28mb      1/1     Running   0          4m2s\n",
      "dask-kube-worker-685fbb84c9-q8b7h      1/1     Running   0          4m3s\n",
      "dask-kube-worker-685fbb84c9-qhxtv      1/1     Running   0          4m2s\n",
      "dask-kube-worker-685fbb84c9-qlvvq      1/1     Running   0          4m3s\n",
      "dask-kube-worker-685fbb84c9-vmwzb      1/1     Running   0          4m\n",
      "dask-kube-worker-685fbb84c9-z9w75      1/1     Running   0          3m59s\n",
      "dask-kube-worker-685fbb84c9-zp7lw      1/1     Running   0          3m58s\n"
     ]
    }
   ],
   "source": [
    "# check pod status\n",
    "!kubectl get pods --kubeconfig $kube_config_path"
   ]
  },
  {
   "cell_type": "code",
   "execution_count": null,
   "metadata": {},
   "outputs": [],
   "source": [
    "# check worker logs\n",
    "!kubectl logs dask-kubenetes-jupyter-6df9fc9544-stqcj --kubeconfig $kube_config_path"
   ]
  },
  {
   "cell_type": "code",
   "execution_count": 16,
   "metadata": {},
   "outputs": [
    {
     "name": "stdout",
     "output_type": "stream",
     "text": [
      "NAME                  TYPE           CLUSTER-IP     EXTERNAL-IP      PORT(S)                       AGE\n",
      "azureml-fe            LoadBalancer   10.0.37.152    104.45.176.211   80:31391/TCP,443:30295/TCP    23d\n",
      "azureml-fe-int-http   ClusterIP      10.0.32.90     <none>           9001/TCP                      23d\n",
      "dask-kube-jupyter     LoadBalancer   10.0.146.160   52.188.180.186   80:30855/TCP                  3m11s\n",
      "dask-kube-scheduler   LoadBalancer   10.0.243.121   52.188.181.173   8786:31289/TCP,80:30726/TCP   3m11s\n",
      "kubernetes            ClusterIP      10.0.0.1       <none>           443/TCP                       23d\n"
     ]
    }
   ],
   "source": [
    "!kubectl get services --kubeconfig $kube_config_path"
   ]
  },
  {
   "cell_type": "markdown",
   "metadata": {},
   "source": [
    "## Navigate to Jupyter notebook via link provided"
   ]
  },
  {
   "cell_type": "raw",
   "metadata": {},
   "source": [
    "export DASK_SCHEDULER_PORT=8786\n",
    "export DASK_SCHEDULER_UI_PORT=80\n",
    "export JUPYTER_NOTEBOOK_PORT=80\n",
    "\n",
    "echo tcp://$DASK_SCHEDULER:$DASK_SCHEDULER_PORT               -- Dask Client connection\n",
    "echo http://$DASK_SCHEDULER_UI_IP:$DASK_SCHEDULER_UI_PORT     -- Dask dashboard\n",
    "echo http://$JUPYTER_NOTEBOOK_IP:$JUPYTER_NOTEBOOK_PORT       -- Jupyter notebook\n"
   ]
  },
  {
   "cell_type": "markdown",
   "metadata": {},
   "source": [
    "=================================================="
   ]
  },
  {
   "cell_type": "markdown",
   "metadata": {},
   "source": [
    "## Connect dask client"
   ]
  },
  {
   "cell_type": "code",
   "execution_count": 19,
   "metadata": {
    "collapsed": true
   },
   "outputs": [
    {
     "name": "stderr",
     "output_type": "stream",
     "text": [
      "C:\\Users\\feli1\\AppData\\Local\\Continuum\\anaconda3\\envs\\daskaks\\lib\\site-packages\\distributed\\client.py:1079: VersionMismatchWarning: Mismatched versions found\n",
      "\n",
      "blosc\n",
      "+--------------------------+---------+\n",
      "|                          | version |\n",
      "+--------------------------+---------+\n",
      "| client                   | None    |\n",
      "| scheduler                | 1.8.3   |\n",
      "| tcp://10.244.0.21:45885  | 1.8.3   |\n",
      "| tcp://10.244.1.24:39525  | 1.8.3   |\n",
      "| tcp://10.244.1.25:34583  | 1.8.3   |\n",
      "| tcp://10.244.1.26:36269  | 1.8.3   |\n",
      "| tcp://10.244.2.24:45367  | 1.8.3   |\n",
      "| tcp://10.244.2.25:38293  | 1.8.3   |\n",
      "| tcp://10.244.2.26:32879  | 1.8.3   |\n",
      "| tcp://10.244.23.15:45459 | 1.8.3   |\n",
      "| tcp://10.244.46.13:43143 | 1.8.3   |\n",
      "| tcp://10.244.46.15:35799 | 1.8.3   |\n",
      "| tcp://10.244.51.12:36077 | 1.8.3   |\n",
      "| tcp://10.244.51.13:46217 | 1.8.3   |\n",
      "| tcp://10.244.7.12:44445  | 1.8.3   |\n",
      "| tcp://10.244.8.13:36225  | 1.8.3   |\n",
      "+--------------------------+---------+\n",
      "\n",
      "dask\n",
      "+--------------------------+---------+\n",
      "|                          | version |\n",
      "+--------------------------+---------+\n",
      "| client                   | 2.14.0  |\n",
      "| scheduler                | 2.11.0  |\n",
      "| tcp://10.244.0.21:45885  | 2.11.0  |\n",
      "| tcp://10.244.1.24:39525  | 2.11.0  |\n",
      "| tcp://10.244.1.25:34583  | 2.11.0  |\n",
      "| tcp://10.244.1.26:36269  | 2.11.0  |\n",
      "| tcp://10.244.2.24:45367  | 2.11.0  |\n",
      "| tcp://10.244.2.25:38293  | 2.11.0  |\n",
      "| tcp://10.244.2.26:32879  | 2.11.0  |\n",
      "| tcp://10.244.23.15:45459 | 2.11.0  |\n",
      "| tcp://10.244.46.13:43143 | 2.11.0  |\n",
      "| tcp://10.244.46.15:35799 | 2.11.0  |\n",
      "| tcp://10.244.51.12:36077 | 2.11.0  |\n",
      "| tcp://10.244.51.13:46217 | 2.11.0  |\n",
      "| tcp://10.244.7.12:44445  | 2.11.0  |\n",
      "| tcp://10.244.8.13:36225  | 2.11.0  |\n",
      "+--------------------------+---------+\n",
      "\n",
      "distributed\n",
      "+--------------------------+---------+\n",
      "|                          | version |\n",
      "+--------------------------+---------+\n",
      "| client                   | 2.14.0  |\n",
      "| scheduler                | 2.11.0  |\n",
      "| tcp://10.244.0.21:45885  | 2.11.0  |\n",
      "| tcp://10.244.1.24:39525  | 2.11.0  |\n",
      "| tcp://10.244.1.25:34583  | 2.11.0  |\n",
      "| tcp://10.244.1.26:36269  | 2.11.0  |\n",
      "| tcp://10.244.2.24:45367  | 2.11.0  |\n",
      "| tcp://10.244.2.25:38293  | 2.11.0  |\n",
      "| tcp://10.244.2.26:32879  | 2.11.0  |\n",
      "| tcp://10.244.23.15:45459 | 2.11.0  |\n",
      "| tcp://10.244.46.13:43143 | 2.11.0  |\n",
      "| tcp://10.244.46.15:35799 | 2.11.0  |\n",
      "| tcp://10.244.51.12:36077 | 2.11.0  |\n",
      "| tcp://10.244.51.13:46217 | 2.11.0  |\n",
      "| tcp://10.244.7.12:44445  | 2.11.0  |\n",
      "| tcp://10.244.8.13:36225  | 2.11.0  |\n",
      "+--------------------------+---------+\n",
      "\n",
      "lz4\n",
      "+--------------------------+---------+\n",
      "|                          | version |\n",
      "+--------------------------+---------+\n",
      "| client                   | None    |\n",
      "| scheduler                | 3.0.2   |\n",
      "| tcp://10.244.0.21:45885  | 3.0.2   |\n",
      "| tcp://10.244.1.24:39525  | 3.0.2   |\n",
      "| tcp://10.244.1.25:34583  | 3.0.2   |\n",
      "| tcp://10.244.1.26:36269  | 3.0.2   |\n",
      "| tcp://10.244.2.24:45367  | 3.0.2   |\n",
      "| tcp://10.244.2.25:38293  | 3.0.2   |\n",
      "| tcp://10.244.2.26:32879  | 3.0.2   |\n",
      "| tcp://10.244.23.15:45459 | 3.0.2   |\n",
      "| tcp://10.244.46.13:43143 | 3.0.2   |\n",
      "| tcp://10.244.46.15:35799 | 3.0.2   |\n",
      "| tcp://10.244.51.12:36077 | 3.0.2   |\n",
      "| tcp://10.244.51.13:46217 | 3.0.2   |\n",
      "| tcp://10.244.7.12:44445  | 3.0.2   |\n",
      "| tcp://10.244.8.13:36225  | 3.0.2   |\n",
      "+--------------------------+---------+\n",
      "\n",
      "numpy\n",
      "+--------------------------+---------+\n",
      "|                          | version |\n",
      "+--------------------------+---------+\n",
      "| client                   | 1.18.2  |\n",
      "| scheduler                | 1.18.1  |\n",
      "| tcp://10.244.0.21:45885  | 1.18.1  |\n",
      "| tcp://10.244.1.24:39525  | 1.18.1  |\n",
      "| tcp://10.244.1.25:34583  | 1.18.1  |\n",
      "| tcp://10.244.1.26:36269  | 1.18.1  |\n",
      "| tcp://10.244.2.24:45367  | 1.18.1  |\n",
      "| tcp://10.244.2.25:38293  | 1.18.1  |\n",
      "| tcp://10.244.2.26:32879  | 1.18.1  |\n",
      "| tcp://10.244.23.15:45459 | 1.18.1  |\n",
      "| tcp://10.244.46.13:43143 | 1.18.1  |\n",
      "| tcp://10.244.46.15:35799 | 1.18.1  |\n",
      "| tcp://10.244.51.12:36077 | 1.18.1  |\n",
      "| tcp://10.244.51.13:46217 | 1.18.1  |\n",
      "| tcp://10.244.7.12:44445  | 1.18.1  |\n",
      "| tcp://10.244.8.13:36225  | 1.18.1  |\n",
      "+--------------------------+---------+\n",
      "\n",
      "python\n",
      "+--------------------------+----------------+\n",
      "|                          | version        |\n",
      "+--------------------------+----------------+\n",
      "| client                   | 3.6.10.final.0 |\n",
      "| scheduler                | MISSING        |\n",
      "| tcp://10.244.0.21:45885  | MISSING        |\n",
      "| tcp://10.244.1.24:39525  | MISSING        |\n",
      "| tcp://10.244.1.25:34583  | MISSING        |\n",
      "| tcp://10.244.1.26:36269  | MISSING        |\n",
      "| tcp://10.244.2.24:45367  | MISSING        |\n",
      "| tcp://10.244.2.25:38293  | MISSING        |\n",
      "| tcp://10.244.2.26:32879  | MISSING        |\n",
      "| tcp://10.244.23.15:45459 | MISSING        |\n",
      "| tcp://10.244.46.13:43143 | MISSING        |\n",
      "| tcp://10.244.46.15:35799 | MISSING        |\n",
      "| tcp://10.244.51.12:36077 | MISSING        |\n",
      "| tcp://10.244.51.13:46217 | MISSING        |\n",
      "| tcp://10.244.7.12:44445  | MISSING        |\n",
      "| tcp://10.244.8.13:36225  | MISSING        |\n",
      "+--------------------------+----------------+\n",
      "\n",
      "tornado\n",
      "+--------------------------+---------+\n",
      "|                          | version |\n",
      "+--------------------------+---------+\n",
      "| client                   | 6.0.4   |\n",
      "| scheduler                | 6.0.3   |\n",
      "| tcp://10.244.0.21:45885  | 6.0.3   |\n",
      "| tcp://10.244.1.24:39525  | 6.0.3   |\n",
      "| tcp://10.244.1.25:34583  | 6.0.3   |\n",
      "| tcp://10.244.1.26:36269  | 6.0.3   |\n",
      "| tcp://10.244.2.24:45367  | 6.0.3   |\n",
      "| tcp://10.244.2.25:38293  | 6.0.3   |\n",
      "| tcp://10.244.2.26:32879  | 6.0.3   |\n",
      "| tcp://10.244.23.15:45459 | 6.0.3   |\n",
      "| tcp://10.244.46.13:43143 | 6.0.3   |\n",
      "| tcp://10.244.46.15:35799 | 6.0.3   |\n",
      "| tcp://10.244.51.12:36077 | 6.0.3   |\n",
      "| tcp://10.244.51.13:46217 | 6.0.3   |\n",
      "| tcp://10.244.7.12:44445  | 6.0.3   |\n",
      "| tcp://10.244.8.13:36225  | 6.0.3   |\n",
      "+--------------------------+---------+\n",
      "  warnings.warn(version_module.VersionMismatchWarning(msg[0][\"warning\"]))\n"
     ]
    }
   ],
   "source": [
    "client = Client('52.188.181.173:8786')"
   ]
  },
  {
   "cell_type": "code",
   "execution_count": 26,
   "metadata": {},
   "outputs": [
    {
     "data": {
      "text/html": [
       "<table style=\"border: 2px solid white;\">\n",
       "<tr>\n",
       "<td style=\"vertical-align: top; border: 0px solid white\">\n",
       "<h3 style=\"text-align: left;\">Client</h3>\n",
       "<ul style=\"text-align: left; list-style: none; margin: 0; padding: 0;\">\n",
       "  <li><b>Scheduler: </b>tcp://52.188.181.173:8786</li>\n",
       "  <li><b>Dashboard: </b><a href='http://52.188.181.173:8787/status' target='_blank'>http://52.188.181.173:8787/status</a>\n",
       "</ul>\n",
       "</td>\n",
       "<td style=\"vertical-align: top; border: 0px solid white\">\n",
       "<h3 style=\"text-align: left;\">Cluster</h3>\n",
       "<ul style=\"text-align: left; list-style:none; margin: 0; padding: 0;\">\n",
       "  <li><b>Workers: </b>17</li>\n",
       "  <li><b>Cores: </b>17</li>\n",
       "  <li><b>Memory: </b>51.00 GB</li>\n",
       "</ul>\n",
       "</td>\n",
       "</tr>\n",
       "</table>"
      ],
      "text/plain": [
       "<Client: 'tcp://10.244.46.12:8786' processes=17 threads=17, memory=51.00 GB>"
      ]
     },
     "execution_count": 26,
     "metadata": {},
     "output_type": "execute_result"
    }
   ],
   "source": [
    "client"
   ]
  },
  {
   "cell_type": "code",
   "execution_count": 30,
   "metadata": {},
   "outputs": [
    {
     "name": "stdout",
     "output_type": "stream",
     "text": [
      "release \"dask-kube\" uninstalled\n"
     ]
    },
    {
     "name": "stderr",
     "output_type": "stream",
     "text": [
      "distributed.client - ERROR - Failed to reconnect to scheduler after 10.00 seconds, closing client\n",
      "_GatheringFuture exception was never retrieved\n",
      "future: <_GatheringFuture finished exception=CancelledError()>\n",
      "concurrent.futures._base.CancelledError\n"
     ]
    }
   ],
   "source": [
    "## Delete a helm deployment\n",
    "!helm delete dask-kube --kubeconfig $kube_config_path"
   ]
  },
  {
   "cell_type": "code",
   "execution_count": null,
   "metadata": {},
   "outputs": [],
   "source": []
  }
 ],
 "metadata": {
  "kernelspec": {
   "display_name": "Python 3",
   "language": "python",
   "name": "python3"
  },
  "language_info": {
   "codemirror_mode": {
    "name": "ipython",
    "version": 3
   },
   "file_extension": ".py",
   "mimetype": "text/x-python",
   "name": "python",
   "nbconvert_exporter": "python",
   "pygments_lexer": "ipython3",
   "version": "3.6.10"
  }
 },
 "nbformat": 4,
 "nbformat_minor": 4
}
