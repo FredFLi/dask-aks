{
 "cells": [
  {
   "cell_type": "code",
   "execution_count": 9,
   "metadata": {},
   "outputs": [],
   "source": [
    "import dask.dataframe as dd\n",
    "import dask.array as da\n",
    "import fsspec\n",
    "import dask\n",
    "\n",
    "from dask.distributed import Client\n",
    "from azureml.core import Workspace, Experiment, Datastore, Dataset, Environment"
   ]
  },
  {
   "cell_type": "markdown",
   "metadata": {},
   "source": [
    "## Connect dask client"
   ]
  },
  {
   "cell_type": "code",
   "execution_count": 3,
   "metadata": {},
   "outputs": [],
   "source": [
    "client = Client('52.188.181.173:8786')"
   ]
  },
  {
   "cell_type": "code",
   "execution_count": 4,
   "metadata": {},
   "outputs": [
    {
     "data": {
      "text/html": [
       "<table style=\"border: 2px solid white;\">\n",
       "<tr>\n",
       "<td style=\"vertical-align: top; border: 0px solid white\">\n",
       "<h3 style=\"text-align: left;\">Client</h3>\n",
       "<ul style=\"text-align: left; list-style: none; margin: 0; padding: 0;\">\n",
       "  <li><b>Scheduler: </b>tcp://52.188.181.173:8786</li>\n",
       "  <li><b>Dashboard: </b><a href='http://52.188.181.173:8787/status' target='_blank'>http://52.188.181.173:8787/status</a>\n",
       "</ul>\n",
       "</td>\n",
       "<td style=\"vertical-align: top; border: 0px solid white\">\n",
       "<h3 style=\"text-align: left;\">Cluster</h3>\n",
       "<ul style=\"text-align: left; list-style:none; margin: 0; padding: 0;\">\n",
       "  <li><b>Workers: </b>20</li>\n",
       "  <li><b>Cores: </b>20</li>\n",
       "  <li><b>Memory: </b>60.00 GB</li>\n",
       "</ul>\n",
       "</td>\n",
       "</tr>\n",
       "</table>"
      ],
      "text/plain": [
       "<Client: 'tcp://10.244.46.12:8786' processes=20 threads=20, memory=60.00 GB>"
      ]
     },
     "execution_count": 4,
     "metadata": {},
     "output_type": "execute_result"
    }
   ],
   "source": [
    "client"
   ]
  },
  {
   "cell_type": "markdown",
   "metadata": {},
   "source": [
    "## Simple Test"
   ]
  },
  {
   "cell_type": "code",
   "execution_count": null,
   "metadata": {},
   "outputs": [],
   "source": [
    "# Create an array and calculate the mean\n",
    "array = da.ones((1000, 1000, 1000), chunks=(100, 100, 10))\n",
    "print(array.mean().compute())  # Should print 1.0"
   ]
  },
  {
   "cell_type": "markdown",
   "metadata": {},
   "source": [
    "## Read data"
   ]
  },
  {
   "cell_type": "code",
   "execution_count": 5,
   "metadata": {},
   "outputs": [
    {
     "name": "stdout",
     "output_type": "stream",
     "text": [
      "Performing interactive authentication. Please follow the instructions on the terminal.\n",
      "To sign in, use a web browser to open the page https://microsoft.com/devicelogin and enter the code A7477JQ48 to authenticate.\n",
      "Interactive authentication successfully completed.\n"
     ]
    }
   ],
   "source": [
    "subscription_id = <subscription_id>\n",
    "resource_group = <resouce_group>\n",
    "workspace_name = <workspace_name>\n",
    "\n",
    "workspace = Workspace(subscription_id, resource_group, workspace_name)"
   ]
  },
  {
   "cell_type": "code",
   "execution_count": 11,
   "metadata": {},
   "outputs": [],
   "source": [
    "datastore = workspace.get_default_datastore()\n",
    "STORAGE_OPTIONS = {\n",
    "    'account_name': datastore.account_name,\n",
    "    'account_key' : datastore.account_key\n",
    "}\n",
    "\n",
    "protocol  = 'abfs'\n",
    "container_name = datastore.container_name"
   ]
  },
  {
   "cell_type": "code",
   "execution_count": 14,
   "metadata": {},
   "outputs": [
    {
     "data": {
      "text/plain": [
       "['abfs://azureml-blobstore-9da5ba93-f267-42e0-9336-abbb418b44ee/noaa/isd/year=2020/month=3/part-00003-tid-884239976832148569-336bce15-45f0-4e12-b4d3-e6e2268caef1-1951-3.c000.snappy.parquet',\n",
       " 'abfs://azureml-blobstore-9da5ba93-f267-42e0-9336-abbb418b44ee/noaa/isd/year=2020/month=3/part-00004-tid-884239976832148569-336bce15-45f0-4e12-b4d3-e6e2268caef1-1949-3.c000.snappy.parquet',\n",
       " 'abfs://azureml-blobstore-9da5ba93-f267-42e0-9336-abbb418b44ee/noaa/isd/year=2020/month=3/part-00005-tid-884239976832148569-336bce15-45f0-4e12-b4d3-e6e2268caef1-1954-3.c000.snappy.parquet',\n",
       " 'abfs://azureml-blobstore-9da5ba93-f267-42e0-9336-abbb418b44ee/noaa/isd/year=2020/month=3/part-00006-tid-884239976832148569-336bce15-45f0-4e12-b4d3-e6e2268caef1-1953-3.c000.snappy.parquet',\n",
       " 'abfs://azureml-blobstore-9da5ba93-f267-42e0-9336-abbb418b44ee/noaa/isd/year=2020/month=3/part-00007-tid-884239976832148569-336bce15-45f0-4e12-b4d3-e6e2268caef1-1952-3.c000.snappy.parquet']"
      ]
     },
     "execution_count": 14,
     "metadata": {},
     "output_type": "execute_result"
    }
   ],
   "source": [
    "fs = fsspec.filesystem(protocol, **STORAGE_OPTIONS)\n",
    "files = fs.glob(f'{container_name}/noaa/isd/year=*/month=*/*.parquet') # adjust size of data if needed\n",
    "files = [f'{protocol}://{file}' for file in files if '2019' not in file and '2008' not in file and '2018' not in file]  \n",
    "files[-5:]"
   ]
  },
  {
   "cell_type": "code",
   "execution_count": null,
   "metadata": {},
   "outputs": [],
   "source": []
  }
 ],
 "metadata": {
  "kernelspec": {
   "display_name": "Python 3",
   "language": "python",
   "name": "python3"
  },
  "language_info": {
   "codemirror_mode": {
    "name": "ipython",
    "version": 3
   },
   "file_extension": ".py",
   "mimetype": "text/x-python",
   "name": "python",
   "nbconvert_exporter": "python",
   "pygments_lexer": "ipython3",
   "version": "3.6.10"
  }
 },
 "nbformat": 4,
 "nbformat_minor": 4
}
