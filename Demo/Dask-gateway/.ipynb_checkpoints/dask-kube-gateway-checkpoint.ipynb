{
 "cells": [
  {
   "cell_type": "code",
   "execution_count": 2,
   "metadata": {},
   "outputs": [],
   "source": [
    "import os\n",
    "\n",
    "import dask\n",
    "import dask.array as da\n",
    "\n",
    "from dask_kubernetes import KubeCluster\n",
    "from dask.distributed import Client\n",
    "from dask_gateway import Gateway\n",
    "from azureml.core import Workspace, Experiment, Datastore, Dataset, Environment"
   ]
  },
  {
   "cell_type": "code",
   "execution_count": null,
   "metadata": {},
   "outputs": [],
   "source": [
    "kube_config_path = dir_path + '\\\\config'\n",
    "kube_config_path"
   ]
  },
  {
   "cell_type": "code",
   "execution_count": 4,
   "metadata": {
    "collapsed": true
   },
   "outputs": [
    {
     "name": "stderr",
     "output_type": "stream",
     "text": [
      "distributed.dashboard.proxy - INFO - To route to workers diagnostics web server please install jupyter-server-proxy: python -m pip install jupyter-server-proxy\n",
      "distributed.scheduler - INFO - Clear task state\n",
      "C:\\Users\\feli1\\AppData\\Local\\Continuum\\anaconda3\\envs\\daskaks\\lib\\site-packages\\distributed\\dashboard\\core.py:79: UserWarning: \n",
      "Port 8787 is already in use. \n",
      "Perhaps you already have a cluster running?\n",
      "Hosting the diagnostics dashboard on a random port instead.\n",
      "  warnings.warn(\"\\n\" + msg)\n",
      "distributed.scheduler - INFO -   Scheduler at:   tcp://192.168.0.8:18839\n",
      "distributed.scheduler - INFO -   dashboard at:                    :18840\n"
     ]
    },
    {
     "data": {
      "application/vnd.jupyter.widget-view+json": {
       "model_id": "cf5abff2c5994c8da4a7ec2290bc3779",
       "version_major": 2,
       "version_minor": 0
      },
      "text/plain": [
       "VBox(children=(HTML(value='<h2>KubeCluster</h2>'), HBox(children=(HTML(value='\\n<div>\\n  <style scoped>\\n    .…"
      ]
     },
     "metadata": {},
     "output_type": "display_data"
    }
   ],
   "source": [
    "kube_cluster = KubeCluster.from_yaml(yaml_path=\"woker_config.yml\")\n",
    "kube_cluster"
   ]
  },
  {
   "cell_type": "code",
   "execution_count": 5,
   "metadata": {},
   "outputs": [],
   "source": [
    "kube_cluster.scale_up(10)"
   ]
  },
  {
   "cell_type": "code",
   "execution_count": 6,
   "metadata": {},
   "outputs": [
    {
     "name": "stderr",
     "output_type": "stream",
     "text": [
      "distributed.scheduler - INFO - Receive client connection: Client-04e68eb4-9092-11ea-9810-985fd341d1c3\n",
      "distributed.core - INFO - Starting established connection\n"
     ]
    },
    {
     "data": {
      "text/html": [
       "<table style=\"border: 2px solid white;\">\n",
       "<tr>\n",
       "<td style=\"vertical-align: top; border: 0px solid white\">\n",
       "<h3 style=\"text-align: left;\">Client</h3>\n",
       "<ul style=\"text-align: left; list-style: none; margin: 0; padding: 0;\">\n",
       "  <li><b>Scheduler: </b>tcp://192.168.0.8:18839</li>\n",
       "  <li><b>Dashboard: </b><a href='http://192.168.0.8:18840/status' target='_blank'>http://192.168.0.8:18840/status</a>\n",
       "</ul>\n",
       "</td>\n",
       "<td style=\"vertical-align: top; border: 0px solid white\">\n",
       "<h3 style=\"text-align: left;\">Cluster</h3>\n",
       "<ul style=\"text-align: left; list-style:none; margin: 0; padding: 0;\">\n",
       "  <li><b>Workers: </b>0</li>\n",
       "  <li><b>Cores: </b>0</li>\n",
       "  <li><b>Memory: </b>0 B</li>\n",
       "</ul>\n",
       "</td>\n",
       "</tr>\n",
       "</table>"
      ],
      "text/plain": [
       "<Client: 'tcp://192.168.0.8:18839' processes=0 threads=0, memory=0 B>"
      ]
     },
     "execution_count": 6,
     "metadata": {},
     "output_type": "execute_result"
    }
   ],
   "source": [
    "client = Client(kube_cluster)\n",
    "client"
   ]
  },
  {
   "cell_type": "markdown",
   "metadata": {},
   "source": [
    "## use dask-gateway"
   ]
  },
  {
   "cell_type": "code",
   "execution_count": 7,
   "metadata": {},
   "outputs": [
    {
     "name": "stdout",
     "output_type": "stream",
     "text": [
      "\"dask\" has been added to your repositories\n",
      "\"dask-gateway\" has been added to your repositories\n",
      "Hang tight while we grab the latest from your chart repositories...\n",
      "...Successfully got an update from the \"dask-gateway\" chart repository\n",
      "...Successfully got an update from the \"dask\" chart repository\n",
      "Update Complete. âŽˆ Happy Helming!âŽˆ \n"
     ]
    }
   ],
   "source": [
    "!helm repo add dask https://helm.dask.org/\n",
    "!helm repo add dask-gateway https://dask.org/dask-gateway-helm-repo/\n",
    "!helm repo update"
   ]
  },
  {
   "cell_type": "code",
   "execution_count": 8,
   "metadata": {},
   "outputs": [
    {
     "name": "stdout",
     "output_type": "stream",
     "text": [
      "NAME              STATUS   AGE\n",
      "dask-gateway      Active   21d\n",
      "default           Active   23d\n",
      "kube-node-lease   Active   23d\n",
      "kube-public       Active   23d\n",
      "kube-system       Active   23d\n"
     ]
    }
   ],
   "source": [
    "# check if namesapce dask-gateway exists\n",
    "!kubectl get namespaces --kubeconfig $kube_config_path\n",
    "\n",
    "## create if not\n",
    "## one time operation if no dask-gateway namespace available\n",
    "# !kubectl create namespace dask-gateway --kubeconfig $kube_config_path"
   ]
  },
  {
   "cell_type": "code",
   "execution_count": 10,
   "metadata": {},
   "outputs": [
    {
     "name": "stdout",
     "output_type": "stream",
     "text": [
      "Release \"dask-gateway\" has been upgraded. Happy Helming!\n",
      "NAME: dask-gateway\n",
      "LAST DEPLOYED: Thu May  7 11:39:57 2020\n",
      "NAMESPACE: dask-gateway\n",
      "STATUS: deployed\n",
      "REVISION: 5\n",
      "TEST SUITE: None\n",
      "NOTES:\n",
      "You've installed Dask-Gateway version 0.7.1, from chart\n",
      "version 0.7.1!\n",
      "\n",
      "Your release is named \"dask-gateway\" and installed into the\n",
      "namespace \"dask-gateway\".\n",
      "\n",
      "You can find the public address(es) at:\n",
      "\n",
      "  $ kubectl --namespace=dask-gateway get service traefik-dask-gateway\n"
     ]
    }
   ],
   "source": [
    "!helm upgrade --install --namespace dask-gateway --values values.yaml dask-gateway dask-gateway/dask-gateway --kubeconfig $kube_config_path"
   ]
  },
  {
   "cell_type": "code",
   "execution_count": 11,
   "metadata": {},
   "outputs": [
    {
     "name": "stdout",
     "output_type": "stream",
     "text": [
      "NAME                                            TYPE           CLUSTER-IP     EXTERNAL-IP     PORT(S)                      AGE\n",
      "api-dask-gateway                                ClusterIP      10.0.211.232   <none>          8000/TCP                     21d\n",
      "dask-gateway-c15f8637c2bb4b1d938e8a76cb18e251   ClusterIP      None           <none>          8786/TCP,8787/TCP,8788/TCP   22m\n",
      "traefik-dask-gateway                            LoadBalancer   10.0.82.121    52.152.240.67   80:31696/TCP                 21d\n"
     ]
    }
   ],
   "source": [
    "!kubectl get service --namespace dask-gateway --kubeconfig $kube_config_path"
   ]
  },
  {
   "cell_type": "markdown",
   "metadata": {},
   "source": [
    "## Connecting to the gateway"
   ]
  },
  {
   "cell_type": "code",
   "execution_count": 12,
   "metadata": {},
   "outputs": [],
   "source": [
    "gateway=Gateway(\"http://52.152.240.67\")"
   ]
  },
  {
   "cell_type": "code",
   "execution_count": 13,
   "metadata": {},
   "outputs": [
    {
     "data": {
      "text/plain": [
       "[ClusterReport<name=dask-gateway.c15f8637c2bb4b1d938e8a76cb18e251, status=RUNNING>]"
      ]
     },
     "execution_count": 13,
     "metadata": {},
     "output_type": "execute_result"
    }
   ],
   "source": [
    "gateway.list_clusters()"
   ]
  },
  {
   "cell_type": "code",
   "execution_count": 14,
   "metadata": {},
   "outputs": [
    {
     "data": {
      "application/vnd.jupyter.widget-view+json": {
       "model_id": "dbe9ca3f48b84a7d81a166a427713106",
       "version_major": 2,
       "version_minor": 0
      },
      "text/plain": [
       "VBox(children=(HTML(value='<h2>GatewayCluster</h2>'), HBox(children=(HTML(value='\\n<div>\\n<style scoped>\\n    …"
      ]
     },
     "metadata": {},
     "output_type": "display_data"
    }
   ],
   "source": [
    "# create new cluster\n",
    "# cluster = gateway.new_cluster()\n",
    "\n",
    "# get existing cluster\n",
    "cluster=gateway.connect(cluster_name=\"dask-gateway.c15f8637c2bb4b1d938e8a76cb18e251\")\n",
    "\n",
    "cluster"
   ]
  },
  {
   "cell_type": "code",
   "execution_count": null,
   "metadata": {},
   "outputs": [],
   "source": [
    "cluster.dashboard_link  # get link manually"
   ]
  },
  {
   "cell_type": "code",
   "execution_count": 16,
   "metadata": {},
   "outputs": [],
   "source": [
    "cluster.scale(10)"
   ]
  },
  {
   "cell_type": "code",
   "execution_count": 18,
   "metadata": {},
   "outputs": [
    {
     "name": "stdout",
     "output_type": "stream",
     "text": [
      "NAME                                            READY   STATUS    RESTARTS   AGE\n",
      "api-dask-gateway-85d7bdbb4f-k2hvr               1/1     Running   0          21d\n",
      "controller-dask-gateway-6f499b9788-68b4t        1/1     Running   0          21d\n",
      "dask-gateway-2gp87                              0/1     Pending   0          23m\n",
      "dask-gateway-2jb2f                              0/1     Pending   0          23m\n",
      "dask-gateway-2kw8f                              0/1     Pending   0          23m\n",
      "dask-gateway-42vvr                              0/1     Pending   0          23m\n",
      "dask-gateway-5zn8k                              0/1     Pending   0          7m18s\n",
      "dask-gateway-64f8m                              1/1     Running   0          23m\n",
      "dask-gateway-6g77w                              0/1     Pending   0          7m18s\n",
      "dask-gateway-6ptrf                              0/1     Pending   0          7m18s\n",
      "dask-gateway-6vgn9                              0/1     Pending   0          23m\n",
      "dask-gateway-7575j                              0/1     Pending   0          7m18s\n",
      "dask-gateway-78xs6                              0/1     Pending   0          7m18s\n",
      "dask-gateway-7qw2m                              0/1     Pending   0          7m18s\n",
      "dask-gateway-88c8m                              0/1     Pending   0          23m\n",
      "dask-gateway-8b46z                              0/1     Pending   0          23m\n",
      "dask-gateway-8k4jf                              0/1     Pending   0          23m\n",
      "dask-gateway-8rmzc                              0/1     Pending   0          7m18s\n",
      "dask-gateway-9g986                              0/1     Pending   0          7m18s\n",
      "dask-gateway-9jph4                              0/1     Pending   0          23m\n",
      "dask-gateway-b5gjt                              0/1     Pending   0          7m18s\n",
      "dask-gateway-b9c5t                              1/1     Running   0          23m\n",
      "dask-gateway-blg8s                              0/1     Pending   0          7m18s\n",
      "dask-gateway-bzgkn                              0/1     Pending   0          23m\n",
      "dask-gateway-c15f8637c2bb4b1d938e8a76cb18e251   1/1     Running   0          24m\n",
      "dask-gateway-c4w4w                              0/1     Pending   0          23m\n",
      "dask-gateway-c69ff                              0/1     Pending   0          23m\n",
      "dask-gateway-db2sb                              0/1     Pending   0          7m18s\n",
      "dask-gateway-dqkkk                              0/1     Pending   0          23m\n",
      "dask-gateway-frtqq                              0/1     Pending   0          7m18s\n",
      "dask-gateway-g6gg5                              0/1     Pending   0          23m\n",
      "dask-gateway-ggx5q                              0/1     Pending   0          23m\n",
      "dask-gateway-gjtn7                              0/1     Pending   0          23m\n",
      "dask-gateway-gw7j5                              0/1     Pending   0          23m\n",
      "dask-gateway-gzwt7                              0/1     Pending   0          7m18s\n",
      "dask-gateway-h8xqr                              0/1     Pending   0          7m18s\n",
      "dask-gateway-j8f58                              0/1     Pending   0          7m18s\n",
      "dask-gateway-jbhwg                              0/1     Pending   0          23m\n",
      "dask-gateway-jjzbw                              1/1     Running   0          23m\n",
      "dask-gateway-jlf2x                              1/1     Running   0          23m\n",
      "dask-gateway-jmsfm                              0/1     Pending   0          7m18s\n",
      "dask-gateway-jr69w                              0/1     Pending   0          23m\n",
      "dask-gateway-kh7qm                              0/1     Pending   0          23m\n",
      "dask-gateway-kjzf2                              0/1     Pending   0          23m\n",
      "dask-gateway-kxlb4                              0/1     Pending   0          23m\n",
      "dask-gateway-lx7wn                              0/1     Pending   0          7m18s\n",
      "dask-gateway-mrp5g                              0/1     Pending   0          23m\n",
      "dask-gateway-n4fbx                              0/1     Pending   0          7m18s\n",
      "dask-gateway-n5xpf                              0/1     Pending   0          23m\n",
      "dask-gateway-n924m                              0/1     Pending   0          7m18s\n",
      "dask-gateway-nbfhc                              1/1     Running   0          23m\n",
      "dask-gateway-nc8lt                              0/1     Pending   0          7m18s\n",
      "dask-gateway-ngws6                              0/1     Pending   0          7m18s\n",
      "dask-gateway-pgljm                              0/1     Pending   0          7m18s\n",
      "dask-gateway-pll9l                              0/1     Pending   0          23m\n",
      "dask-gateway-pln5z                              0/1     Pending   0          23m\n",
      "dask-gateway-qfdcq                              0/1     Pending   0          23m\n",
      "dask-gateway-rxfjn                              1/1     Running   0          23m\n",
      "dask-gateway-st4jj                              0/1     Pending   0          7m18s\n",
      "dask-gateway-t8zks                              0/1     Pending   0          7m18s\n",
      "dask-gateway-td8tp                              0/1     Pending   0          7m18s\n",
      "dask-gateway-tdxrk                              0/1     Pending   0          7m18s\n",
      "dask-gateway-vpls5                              0/1     Pending   0          7m18s\n",
      "dask-gateway-vq4fv                              0/1     Pending   0          7m18s\n",
      "dask-gateway-vqgcp                              0/1     Pending   0          7m18s\n",
      "dask-gateway-wchbz                              0/1     Pending   0          23m\n",
      "dask-gateway-wd7ns                              0/1     Pending   0          23m\n",
      "dask-gateway-wjcrf                              0/1     Pending   0          23m\n",
      "dask-gateway-wpmvj                              0/1     Pending   0          23m\n",
      "dask-gateway-wwh2t                              0/1     Pending   0          7m18s\n",
      "dask-gateway-wxvdn                              0/1     Pending   0          23m\n",
      "dask-gateway-x87cp                              0/1     Pending   0          7m18s\n",
      "dask-gateway-xsz9l                              0/1     Pending   0          23m\n",
      "dask-gateway-z7ktm                              0/1     Pending   0          7m18s\n",
      "dask-gateway-zbskt                              0/1     Pending   0          7m18s\n",
      "dask-gateway-zrbdh                              0/1     Pending   0          23m\n",
      "dask-gateway-zxgk8                              0/1     Pending   0          7m18s\n",
      "traefik-dask-gateway-66756ccd44-nphxg           1/1     Running   0          20d\n"
     ]
    }
   ],
   "source": [
    "!kubectl get pods --namespace dask-gateway --kubeconfig $kube_config_path"
   ]
  },
  {
   "cell_type": "code",
   "execution_count": 19,
   "metadata": {
    "collapsed": true
   },
   "outputs": [
    {
     "name": "stderr",
     "output_type": "stream",
     "text": [
      "C:\\Users\\feli1\\AppData\\Local\\Continuum\\anaconda3\\envs\\daskaks\\lib\\site-packages\\distributed\\client.py:1079: VersionMismatchWarning: Mismatched versions found\n",
      "\n",
      "numpy\n",
      "+--------------------------+---------+\n",
      "|                          | version |\n",
      "+--------------------------+---------+\n",
      "| client                   | 1.18.2  |\n",
      "| scheduler                | 1.18.1  |\n",
      "| tls://10.244.0.22:41923  | 1.18.1  |\n",
      "| tls://10.244.1.27:34935  | 1.18.1  |\n",
      "| tls://10.244.18.5:33641  | 1.18.1  |\n",
      "| tls://10.244.23.16:37735 | 1.18.1  |\n",
      "| tls://10.244.51.16:39795 | 1.18.1  |\n",
      "| tls://10.244.8.14:35973  | 1.18.1  |\n",
      "+--------------------------+---------+\n",
      "\n",
      "python\n",
      "+--------------------------+----------------+\n",
      "|                          | version        |\n",
      "+--------------------------+----------------+\n",
      "| client                   | 3.6.10.final.0 |\n",
      "| scheduler                | 3.7.6.final.0  |\n",
      "| tls://10.244.0.22:41923  | 3.7.6.final.0  |\n",
      "| tls://10.244.1.27:34935  | 3.7.6.final.0  |\n",
      "| tls://10.244.18.5:33641  | 3.7.6.final.0  |\n",
      "| tls://10.244.23.16:37735 | 3.7.6.final.0  |\n",
      "| tls://10.244.51.16:39795 | 3.7.6.final.0  |\n",
      "| tls://10.244.8.14:35973  | 3.7.6.final.0  |\n",
      "+--------------------------+----------------+\n",
      "  warnings.warn(version_module.VersionMismatchWarning(msg[0][\"warning\"]))\n"
     ]
    },
    {
     "data": {
      "text/html": [
       "<table style=\"border: 2px solid white;\">\n",
       "<tr>\n",
       "<td style=\"vertical-align: top; border: 0px solid white\">\n",
       "<h3 style=\"text-align: left;\">Client</h3>\n",
       "<ul style=\"text-align: left; list-style: none; margin: 0; padding: 0;\">\n",
       "  <li><b>Scheduler: </b>gateway://52.152.240.67:80/dask-gateway.c15f8637c2bb4b1d938e8a76cb18e251</li>\n",
       "  <li><b>Dashboard: </b><a href='http://52.152.240.67:8787/status' target='_blank'>http://52.152.240.67:8787/status</a>\n",
       "</ul>\n",
       "</td>\n",
       "<td style=\"vertical-align: top; border: 0px solid white\">\n",
       "<h3 style=\"text-align: left;\">Cluster</h3>\n",
       "<ul style=\"text-align: left; list-style:none; margin: 0; padding: 0;\">\n",
       "  <li><b>Workers: </b>6</li>\n",
       "  <li><b>Cores: </b>6</li>\n",
       "  <li><b>Memory: </b>12.88 GB</li>\n",
       "</ul>\n",
       "</td>\n",
       "</tr>\n",
       "</table>"
      ],
      "text/plain": [
       "<Client: 'tls://10.244.2.27:8786' processes=6 threads=6, memory=12.88 GB>"
      ]
     },
     "execution_count": 19,
     "metadata": {},
     "output_type": "execute_result"
    }
   ],
   "source": [
    "client=cluster.get_client()\n",
    "client"
   ]
  },
  {
   "cell_type": "code",
   "execution_count": null,
   "metadata": {},
   "outputs": [],
   "source": [
    "# Create an array and calculate the mean\n",
    "array = da.ones((1000, 1000, 1000), chunks=(100, 100, 10))\n",
    "print(array.mean().compute())  # Should print 1.0"
   ]
  },
  {
   "cell_type": "code",
   "execution_count": null,
   "metadata": {},
   "outputs": [],
   "source": []
  }
 ],
 "metadata": {
  "kernelspec": {
   "display_name": "Python 3",
   "language": "python",
   "name": "python3"
  },
  "language_info": {
   "codemirror_mode": {
    "name": "ipython",
    "version": 3
   },
   "file_extension": ".py",
   "mimetype": "text/x-python",
   "name": "python",
   "nbconvert_exporter": "python",
   "pygments_lexer": "ipython3",
   "version": "3.6.10"
  }
 },
 "nbformat": 4,
 "nbformat_minor": 4
}
